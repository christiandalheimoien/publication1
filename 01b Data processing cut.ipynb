{
 "cells": [
  {
   "cell_type": "code",
   "execution_count": 29,
   "metadata": {},
   "outputs": [],
   "source": [
    "%matplotlib inline"
   ]
  },
  {
   "cell_type": "markdown",
   "metadata": {},
   "source": [
    "\n",
    "# 01 Data processing\n",
    "\n",
    "This notebook imports standardized data from `df_2021.pkl` and define batch splits, part counts, runs PCA and creates lag features for further analyses."
   ]
  },
  {
   "cell_type": "markdown",
   "metadata": {},
   "source": []
  },
  {
   "cell_type": "code",
   "execution_count": 30,
   "metadata": {},
   "outputs": [],
   "source": [
    "import matplotlib.pyplot as plt\n",
    "import numpy as np\n",
    "from sklearn.decomposition import PCA\n",
    "import pandas as pd\n",
    "import seaborn as sns\n",
    "\n",
    "pd.set_option('display.max_columns', 10)\n",
    "pd.set_option('display.max_rows', 20)\n",
    "pd.set_option('display.precision', 3)"
   ]
  },
  {
   "cell_type": "markdown",
   "metadata": {},
   "source": [
    "Load data. Define dataframe `df_X` of input features."
   ]
  },
  {
   "cell_type": "code",
   "execution_count": 31,
   "metadata": {},
   "outputs": [
    {
     "data": {
      "text/html": [
       "<div>\n",
       "<style scoped>\n",
       "    .dataframe tbody tr th:only-of-type {\n",
       "        vertical-align: middle;\n",
       "    }\n",
       "\n",
       "    .dataframe tbody tr th {\n",
       "        vertical-align: top;\n",
       "    }\n",
       "\n",
       "    .dataframe thead th {\n",
       "        text-align: right;\n",
       "    }\n",
       "</style>\n",
       "<table border=\"1\" class=\"dataframe\">\n",
       "  <thead>\n",
       "    <tr style=\"text-align: right;\">\n",
       "      <th></th>\n",
       "      <th>x1</th>\n",
       "      <th>x2</th>\n",
       "      <th>x3</th>\n",
       "      <th>x4</th>\n",
       "      <th>x5</th>\n",
       "      <th>...</th>\n",
       "      <th>x96</th>\n",
       "      <th>x97</th>\n",
       "      <th>x98</th>\n",
       "      <th>x99</th>\n",
       "      <th>x100</th>\n",
       "    </tr>\n",
       "  </thead>\n",
       "  <tbody>\n",
       "    <tr>\n",
       "      <th>0</th>\n",
       "      <td>-0.068</td>\n",
       "      <td>-0.403</td>\n",
       "      <td>-0.683</td>\n",
       "      <td>-0.810</td>\n",
       "      <td>0.990</td>\n",
       "      <td>...</td>\n",
       "      <td>2.641</td>\n",
       "      <td>-1.095</td>\n",
       "      <td>-0.525</td>\n",
       "      <td>-1.028</td>\n",
       "      <td>0.424</td>\n",
       "    </tr>\n",
       "    <tr>\n",
       "      <th>1</th>\n",
       "      <td>-0.068</td>\n",
       "      <td>-0.403</td>\n",
       "      <td>-0.683</td>\n",
       "      <td>-0.810</td>\n",
       "      <td>0.990</td>\n",
       "      <td>...</td>\n",
       "      <td>2.641</td>\n",
       "      <td>-1.095</td>\n",
       "      <td>-0.525</td>\n",
       "      <td>-1.028</td>\n",
       "      <td>0.424</td>\n",
       "    </tr>\n",
       "    <tr>\n",
       "      <th>2</th>\n",
       "      <td>0.015</td>\n",
       "      <td>-0.403</td>\n",
       "      <td>-1.024</td>\n",
       "      <td>-0.810</td>\n",
       "      <td>0.839</td>\n",
       "      <td>...</td>\n",
       "      <td>-0.557</td>\n",
       "      <td>-0.517</td>\n",
       "      <td>-0.179</td>\n",
       "      <td>0.050</td>\n",
       "      <td>1.483</td>\n",
       "    </tr>\n",
       "    <tr>\n",
       "      <th>3</th>\n",
       "      <td>0.015</td>\n",
       "      <td>-0.403</td>\n",
       "      <td>-1.024</td>\n",
       "      <td>-0.810</td>\n",
       "      <td>0.839</td>\n",
       "      <td>...</td>\n",
       "      <td>-0.557</td>\n",
       "      <td>-0.517</td>\n",
       "      <td>-0.179</td>\n",
       "      <td>0.050</td>\n",
       "      <td>1.483</td>\n",
       "    </tr>\n",
       "    <tr>\n",
       "      <th>4</th>\n",
       "      <td>-1.822</td>\n",
       "      <td>0.465</td>\n",
       "      <td>1.495</td>\n",
       "      <td>1.683</td>\n",
       "      <td>-0.687</td>\n",
       "      <td>...</td>\n",
       "      <td>2.797</td>\n",
       "      <td>1.344</td>\n",
       "      <td>1.802</td>\n",
       "      <td>-9.325</td>\n",
       "      <td>0.239</td>\n",
       "    </tr>\n",
       "    <tr>\n",
       "      <th>...</th>\n",
       "      <td>...</td>\n",
       "      <td>...</td>\n",
       "      <td>...</td>\n",
       "      <td>...</td>\n",
       "      <td>...</td>\n",
       "      <td>...</td>\n",
       "      <td>...</td>\n",
       "      <td>...</td>\n",
       "      <td>...</td>\n",
       "      <td>...</td>\n",
       "      <td>...</td>\n",
       "    </tr>\n",
       "    <tr>\n",
       "      <th>1233</th>\n",
       "      <td>-1.739</td>\n",
       "      <td>-0.315</td>\n",
       "      <td>-0.844</td>\n",
       "      <td>-0.810</td>\n",
       "      <td>0.990</td>\n",
       "      <td>...</td>\n",
       "      <td>0.566</td>\n",
       "      <td>-0.335</td>\n",
       "      <td>-0.218</td>\n",
       "      <td>1.111</td>\n",
       "      <td>0.558</td>\n",
       "    </tr>\n",
       "    <tr>\n",
       "      <th>1234</th>\n",
       "      <td>1.602</td>\n",
       "      <td>0.543</td>\n",
       "      <td>-0.485</td>\n",
       "      <td>0.125</td>\n",
       "      <td>-1.191</td>\n",
       "      <td>...</td>\n",
       "      <td>0.566</td>\n",
       "      <td>-0.831</td>\n",
       "      <td>-1.172</td>\n",
       "      <td>0.525</td>\n",
       "      <td>0.754</td>\n",
       "    </tr>\n",
       "    <tr>\n",
       "      <th>1235</th>\n",
       "      <td>1.602</td>\n",
       "      <td>0.543</td>\n",
       "      <td>-0.485</td>\n",
       "      <td>0.125</td>\n",
       "      <td>-1.191</td>\n",
       "      <td>...</td>\n",
       "      <td>0.566</td>\n",
       "      <td>-0.831</td>\n",
       "      <td>-1.172</td>\n",
       "      <td>0.525</td>\n",
       "      <td>0.754</td>\n",
       "    </tr>\n",
       "    <tr>\n",
       "      <th>1236</th>\n",
       "      <td>1.185</td>\n",
       "      <td>0.543</td>\n",
       "      <td>1.495</td>\n",
       "      <td>1.683</td>\n",
       "      <td>-0.687</td>\n",
       "      <td>...</td>\n",
       "      <td>0.566</td>\n",
       "      <td>1.657</td>\n",
       "      <td>0.985</td>\n",
       "      <td>-1.946</td>\n",
       "      <td>-0.154</td>\n",
       "    </tr>\n",
       "    <tr>\n",
       "      <th>1237</th>\n",
       "      <td>1.185</td>\n",
       "      <td>0.543</td>\n",
       "      <td>1.495</td>\n",
       "      <td>1.683</td>\n",
       "      <td>-0.687</td>\n",
       "      <td>...</td>\n",
       "      <td>0.566</td>\n",
       "      <td>1.657</td>\n",
       "      <td>0.985</td>\n",
       "      <td>-1.946</td>\n",
       "      <td>-0.154</td>\n",
       "    </tr>\n",
       "  </tbody>\n",
       "</table>\n",
       "<p>1238 rows × 100 columns</p>\n",
       "</div>"
      ],
      "text/plain": [
       "         x1     x2     x3     x4     x5  ...    x96    x97    x98    x99  \\\n",
       "0    -0.068 -0.403 -0.683 -0.810  0.990  ...  2.641 -1.095 -0.525 -1.028   \n",
       "1    -0.068 -0.403 -0.683 -0.810  0.990  ...  2.641 -1.095 -0.525 -1.028   \n",
       "2     0.015 -0.403 -1.024 -0.810  0.839  ... -0.557 -0.517 -0.179  0.050   \n",
       "3     0.015 -0.403 -1.024 -0.810  0.839  ... -0.557 -0.517 -0.179  0.050   \n",
       "4    -1.822  0.465  1.495  1.683 -0.687  ...  2.797  1.344  1.802 -9.325   \n",
       "...     ...    ...    ...    ...    ...  ...    ...    ...    ...    ...   \n",
       "1233 -1.739 -0.315 -0.844 -0.810  0.990  ...  0.566 -0.335 -0.218  1.111   \n",
       "1234  1.602  0.543 -0.485  0.125 -1.191  ...  0.566 -0.831 -1.172  0.525   \n",
       "1235  1.602  0.543 -0.485  0.125 -1.191  ...  0.566 -0.831 -1.172  0.525   \n",
       "1236  1.185  0.543  1.495  1.683 -0.687  ...  0.566  1.657  0.985 -1.946   \n",
       "1237  1.185  0.543  1.495  1.683 -0.687  ...  0.566  1.657  0.985 -1.946   \n",
       "\n",
       "       x100  \n",
       "0     0.424  \n",
       "1     0.424  \n",
       "2     1.483  \n",
       "3     1.483  \n",
       "4     0.239  \n",
       "...     ...  \n",
       "1233  0.558  \n",
       "1234  0.754  \n",
       "1235  0.754  \n",
       "1236 -0.154  \n",
       "1237 -0.154  \n",
       "\n",
       "[1238 rows x 100 columns]"
      ]
     },
     "execution_count": 31,
     "metadata": {},
     "output_type": "execute_result"
    }
   ],
   "source": [
    "df = pd.read_pickle('df_2021.pkl') \n",
    "\n",
    "X_cols = [col for col in df.columns if 'x' in col]\n",
    "df_X = df.loc[:,X_cols]\n",
    "df_X = df_X.reset_index()\n",
    "df_X.drop(columns=['timestamp'], inplace=True)\n",
    "df_X"
   ]
  },
  {
   "cell_type": "markdown",
   "metadata": {},
   "source": [
    "Define dataframe `df_y` of label values and look for outliers"
   ]
  },
  {
   "cell_type": "code",
   "execution_count": 32,
   "metadata": {},
   "outputs": [
    {
     "name": "stdout",
     "output_type": "stream",
     "text": [
      "9 outliers\n"
     ]
    },
    {
     "name": "stderr",
     "output_type": "stream",
     "text": [
      "C:\\Users\\christiano\\AppData\\Local\\Temp\\ipykernel_28124\\619809808.py:12: SettingWithCopyWarning: \n",
      "A value is trying to be set on a copy of a slice from a DataFrame.\n",
      "Try using .loc[row_indexer,col_indexer] = value instead\n",
      "\n",
      "See the caveats in the documentation: https://pandas.pydata.org/pandas-docs/stable/user_guide/indexing.html#returning-a-view-versus-a-copy\n",
      "  df_outliers['worst'] = row_absmax * (-1) ** df_outliers.ne(row_absmax, axis=0).all(axis=1) # Column of largest absolute values\n"
     ]
    },
    {
     "data": {
      "text/html": [
       "<div>\n",
       "<style scoped>\n",
       "    .dataframe tbody tr th:only-of-type {\n",
       "        vertical-align: middle;\n",
       "    }\n",
       "\n",
       "    .dataframe tbody tr th {\n",
       "        vertical-align: top;\n",
       "    }\n",
       "\n",
       "    .dataframe thead th {\n",
       "        text-align: right;\n",
       "    }\n",
       "</style>\n",
       "<table border=\"1\" class=\"dataframe\">\n",
       "  <thead>\n",
       "    <tr style=\"text-align: right;\">\n",
       "      <th></th>\n",
       "      <th>y1</th>\n",
       "      <th>y2</th>\n",
       "      <th>y3</th>\n",
       "      <th>y4</th>\n",
       "      <th>y5</th>\n",
       "      <th>y6</th>\n",
       "      <th>worst</th>\n",
       "    </tr>\n",
       "  </thead>\n",
       "  <tbody>\n",
       "    <tr>\n",
       "      <th>312</th>\n",
       "      <td>-4.397</td>\n",
       "      <td>0.214</td>\n",
       "      <td>0.112</td>\n",
       "      <td>0.873</td>\n",
       "      <td>0.228</td>\n",
       "      <td>0.870</td>\n",
       "      <td>-4.397</td>\n",
       "    </tr>\n",
       "    <tr>\n",
       "      <th>316</th>\n",
       "      <td>-4.397</td>\n",
       "      <td>0.177</td>\n",
       "      <td>0.112</td>\n",
       "      <td>0.566</td>\n",
       "      <td>0.228</td>\n",
       "      <td>0.870</td>\n",
       "      <td>-4.397</td>\n",
       "    </tr>\n",
       "    <tr>\n",
       "      <th>321</th>\n",
       "      <td>-4.397</td>\n",
       "      <td>0.210</td>\n",
       "      <td>0.138</td>\n",
       "      <td>0.621</td>\n",
       "      <td>-1.325</td>\n",
       "      <td>0.473</td>\n",
       "      <td>-4.397</td>\n",
       "    </tr>\n",
       "    <tr>\n",
       "      <th>350</th>\n",
       "      <td>4.657</td>\n",
       "      <td>0.318</td>\n",
       "      <td>0.345</td>\n",
       "      <td>-0.211</td>\n",
       "      <td>-0.725</td>\n",
       "      <td>0.870</td>\n",
       "      <td>4.657</td>\n",
       "    </tr>\n",
       "    <tr>\n",
       "      <th>383</th>\n",
       "      <td>5.261</td>\n",
       "      <td>-0.084</td>\n",
       "      <td>0.125</td>\n",
       "      <td>-1.766</td>\n",
       "      <td>-1.184</td>\n",
       "      <td>0.969</td>\n",
       "      <td>5.261</td>\n",
       "    </tr>\n",
       "    <tr>\n",
       "      <th>796</th>\n",
       "      <td>5.261</td>\n",
       "      <td>0.183</td>\n",
       "      <td>0.112</td>\n",
       "      <td>0.610</td>\n",
       "      <td>0.863</td>\n",
       "      <td>-0.521</td>\n",
       "      <td>5.261</td>\n",
       "    </tr>\n",
       "    <tr>\n",
       "      <th>799</th>\n",
       "      <td>-0.172</td>\n",
       "      <td>0.037</td>\n",
       "      <td>-0.070</td>\n",
       "      <td>0.906</td>\n",
       "      <td>0.333</td>\n",
       "      <td>-4.594</td>\n",
       "      <td>-4.594</td>\n",
       "    </tr>\n",
       "    <tr>\n",
       "      <th>813</th>\n",
       "      <td>4.657</td>\n",
       "      <td>0.015</td>\n",
       "      <td>-0.096</td>\n",
       "      <td>0.938</td>\n",
       "      <td>1.216</td>\n",
       "      <td>0.274</td>\n",
       "      <td>4.657</td>\n",
       "    </tr>\n",
       "    <tr>\n",
       "      <th>1212</th>\n",
       "      <td>-0.172</td>\n",
       "      <td>-24.528</td>\n",
       "      <td>-24.736</td>\n",
       "      <td>0.391</td>\n",
       "      <td>0.157</td>\n",
       "      <td>-1.812</td>\n",
       "      <td>-24.736</td>\n",
       "    </tr>\n",
       "  </tbody>\n",
       "</table>\n",
       "</div>"
      ],
      "text/plain": [
       "         y1      y2      y3     y4     y5     y6   worst\n",
       "312  -4.397   0.214   0.112  0.873  0.228  0.870  -4.397\n",
       "316  -4.397   0.177   0.112  0.566  0.228  0.870  -4.397\n",
       "321  -4.397   0.210   0.138  0.621 -1.325  0.473  -4.397\n",
       "350   4.657   0.318   0.345 -0.211 -0.725  0.870   4.657\n",
       "383   5.261  -0.084   0.125 -1.766 -1.184  0.969   5.261\n",
       "796   5.261   0.183   0.112  0.610  0.863 -0.521   5.261\n",
       "799  -0.172   0.037  -0.070  0.906  0.333 -4.594  -4.594\n",
       "813   4.657   0.015  -0.096  0.938  1.216  0.274   4.657\n",
       "1212 -0.172 -24.528 -24.736  0.391  0.157 -1.812 -24.736"
      ]
     },
     "execution_count": 32,
     "metadata": {},
     "output_type": "execute_result"
    }
   ],
   "source": [
    "y_cols = [col for col in df.columns if 'y' in col]\n",
    "df_y = df.loc[:,y_cols]\n",
    "df_y = df_y.reset_index()\n",
    "df_y.drop(columns=['timestamp'], inplace=True)\n",
    "\n",
    "n_std = 4\n",
    "m1 = (df_y > n_std).any(1) \n",
    "m2 = (df_y < -n_std).any(1)\n",
    "\n",
    "df_outliers = df_y.loc[m1|m2]\n",
    "row_absmax = df_outliers.abs().max(axis=1)\n",
    "df_outliers['worst'] = row_absmax * (-1) ** df_outliers.ne(row_absmax, axis=0).all(axis=1) # Column of largest absolute values\n",
    "\n",
    "print(len(df_outliers), 'outliers')\n",
    "df_outliers\n"
   ]
  },
  {
   "cell_type": "code",
   "execution_count": 33,
   "metadata": {},
   "outputs": [],
   "source": [
    "df_y = (df_y - df_y.mean())/df_y.std()"
   ]
  },
  {
   "cell_type": "markdown",
   "metadata": {},
   "source": [
    "Remove outliers from `df_y` and `df_X`"
   ]
  },
  {
   "cell_type": "code",
   "execution_count": 34,
   "metadata": {},
   "outputs": [
    {
     "name": "stdout",
     "output_type": "stream",
     "text": [
      "(1229, 100)\n",
      "(1229, 6)\n"
     ]
    }
   ],
   "source": [
    "drop_idx = df_outliers.index\n",
    "\n",
    "df_X.drop(index=drop_idx, inplace=True)\n",
    "print(df_X.shape)\n",
    "\n",
    "df_y.drop(index=drop_idx, inplace=True)\n",
    "print(df_y.shape)\n",
    "\n"
   ]
  },
  {
   "cell_type": "markdown",
   "metadata": {},
   "source": [
    "Do PCA on X"
   ]
  },
  {
   "cell_type": "code",
   "execution_count": 35,
   "metadata": {},
   "outputs": [
    {
     "name": "stdout",
     "output_type": "stream",
     "text": [
      "Explained variance from 50 PC's: 0.992\n"
     ]
    },
    {
     "data": {
      "image/png": "[encoded data removed]",
      "text/plain": [
       "<Figure size 432x288 with 1 Axes>"
      ]
     },
     "metadata": {
      "needs_background": "light"
     },
     "output_type": "display_data"
    }
   ],
   "source": [
    "PCA_model = PCA(n_components = df_X.shape[1]).fit(df_X)\n",
    "X_pca = PCA_model.transform(df_X)\n",
    "\n",
    "s_pca50_ev = pd.Series(PCA_model.explained_variance_ratio_).cumsum()\n",
    "s_pca50_ev.plot()\n",
    "plt.grid()\n",
    "plt.ylabel('PCA explained variance')\n",
    "plt.xlabel('Number of principal components')\n",
    "\n",
    "print('Explained variance from 50 PC\\'s:', f'{s_pca50_ev.loc[50]:0.3f}')"
   ]
  },
  {
   "cell_type": "markdown",
   "metadata": {},
   "source": [
    "Define `df_X_pca` and export together with `df_y`. \n",
    "\n",
    "<b> <span style=\"background-color: #267E41\"> These form the basis for time-independent regression analyses. </span> </b>"
   ]
  },
  {
   "cell_type": "code",
   "execution_count": 36,
   "metadata": {},
   "outputs": [
    {
     "name": "stdout",
     "output_type": "stream",
     "text": [
      "(1229, 50) (1229, 6)\n"
     ]
    }
   ],
   "source": [
    "df_X_pca = pd.DataFrame(X_pca[:,:50], index=df_X.index, columns=['pca'+str(i) for i in range(1, 50+1)])\n",
    "df_X_pca.to_pickle('df_X_pca.pkl')\n",
    "df_y.to_pickle('df_y.pkl')\n",
    "print(df_X_pca.shape, df_y.shape)"
   ]
  },
  {
   "cell_type": "markdown",
   "metadata": {},
   "source": [
    "## Lag features - base for time series regression\n"
   ]
  },
  {
   "cell_type": "markdown",
   "metadata": {},
   "source": [
    "#### Now we add 5 lag features based on both X and y"
   ]
  },
  {
   "cell_type": "code",
   "execution_count": 37,
   "metadata": {},
   "outputs": [
    {
     "name": "stdout",
     "output_type": "stream",
     "text": [
      "(1224, 330)\n",
      "(1224, 6)\n"
     ]
    }
   ],
   "source": [
    "n_lag_input = 5\n",
    "n_lag_output = 5\n",
    "\n",
    "df_list = [df_X_pca]\n",
    "X_pca_cols = df_X_pca.columns\n",
    "y_cols = df_y.columns\n",
    "\n",
    "for i in range(1, n_lag_input+1):\n",
    "    temp_X = df_X_pca.shift(i)\n",
    "    temp_X.columns = [col+'-'+str(i) for col in X_pca_cols]\n",
    "    df_list.append(temp_X.copy())\n",
    "\n",
    "for i in range(1, n_lag_output+1):\n",
    "    temp_y = df_y.shift(i)\n",
    "    temp_y.columns = [col+'-'+str(i) for col in y_cols]\n",
    "    df_list.append(temp_y.copy())\n",
    "\n",
    "df_X_lagged = pd.concat(df_list, axis=1, join='inner')\n",
    "df_X_lagged.dropna(inplace=True)\n",
    "print(df_X_lagged.shape)\n",
    "\n",
    "df_y_lagged = df_y.loc[df_X_lagged.index]\n",
    "print(df_y_lagged.shape)"
   ]
  },
  {
   "cell_type": "markdown",
   "metadata": {},
   "source": [
    "Export `df_X_lagged` together with `df_y_lagged` \n",
    "\n",
    "<b> <span style=\"background-color: #267E41\"> These form the basis for time-<u>dependent</u> regression analyses. </span> </b>"
   ]
  },
  {
   "cell_type": "code",
   "execution_count": 38,
   "metadata": {},
   "outputs": [],
   "source": [
    "df_X_lagged.to_pickle('df_X_lagged.pkl')\n",
    "df_y_lagged.to_pickle('df_y_lagged.pkl')"
   ]
  },
  {
   "cell_type": "code",
   "execution_count": null,
   "metadata": {},
   "outputs": [],
   "source": []
  }
 ],
 "metadata": {
  "kernelspec": {
   "display_name": "Python 3",
   "language": "python",
   "name": "python3"
  },
  "language_info": {
   "codemirror_mode": {
    "name": "ipython",
    "version": 3
   },
   "file_extension": ".py",
   "mimetype": "text/x-python",
   "name": "python",
   "nbconvert_exporter": "python",
   "pygments_lexer": "ipython3",
   "version": "3.8.10"
  },
  "vscode": {
   "interpreter": {
    "hash": "f4cb5e2e2bd41786e23835ce27904881a30d28b9a5a4435c0afc405266778387"
   }
  }
 },
 "nbformat": 4,
 "nbformat_minor": 1
}
